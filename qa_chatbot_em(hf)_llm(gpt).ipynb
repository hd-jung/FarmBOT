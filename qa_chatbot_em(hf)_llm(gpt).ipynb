{
 "cells": [
  {
   "cell_type": "code",
   "execution_count": 1,
   "metadata": {},
   "outputs": [],
   "source": [
    "# !pip install -q langchain openai tiktoken chromadb"
   ]
  },
  {
   "cell_type": "code",
   "execution_count": 2,
   "metadata": {},
   "outputs": [],
   "source": [
    "# !wget -q https://github.com/kairess/toy-datasets/raw/master/techcrunch-articles.zip\n",
    "# !unzip -q techcrunch-articles.zip -d articles"
   ]
  },
  {
   "cell_type": "code",
   "execution_count": 13,
   "metadata": {},
   "outputs": [],
   "source": [
    "import os\n",
    "\n",
    "os.environ[\"OPENAI_API_KEY\"] = \"\"\n"
   ]
  },
  {
   "cell_type": "code",
   "execution_count": 4,
   "metadata": {},
   "outputs": [],
   "source": [
    "from langchain.vectorstores import Chroma\n",
    "from langchain.embeddings import OpenAIEmbeddings\n",
    "from langchain.text_splitter import RecursiveCharacterTextSplitter\n",
    "from langchain.llms import OpenAI\n",
    "from langchain.chains import RetrievalQA\n",
    "from langchain.document_loaders import TextLoader\n",
    "from langchain.document_loaders import DirectoryLoader\n",
    "from langchain.document_loaders import PyPDFLoader"
   ]
  },
  {
   "cell_type": "code",
   "execution_count": 5,
   "metadata": {},
   "outputs": [
    {
     "data": {
      "text/plain": [
       "2002"
      ]
     },
     "execution_count": 5,
     "metadata": {},
     "output_type": "execute_result"
    }
   ],
   "source": [
    "# loader = TextLoader('single_text_file.txt')\n",
    "# loader = DirectoryLoader('./articles', glob=\"*.txt\", loader_cls=TextLoader)\n",
    "# loader = DirectoryLoader('./articles', glob=\"*.txt\", loader_cls=TextLoader)\n",
    "loader = DirectoryLoader('./articles', glob=\"*.pdf\", loader_cls=PyPDFLoader)\n",
    "\n",
    "documents = loader.load()\n",
    "\n",
    "len(documents)"
   ]
  },
  {
   "cell_type": "code",
   "execution_count": 6,
   "metadata": {},
   "outputs": [
    {
     "data": {
      "text/plain": [
       "2424"
      ]
     },
     "execution_count": 6,
     "metadata": {},
     "output_type": "execute_result"
    }
   ],
   "source": [
    "text_splitter = RecursiveCharacterTextSplitter(chunk_size=1000, chunk_overlap=200)\n",
    "# 1000글자씩 분할하기\n",
    "# 끊기는것을 방지하지 위해 겹치는 부분을 200자로 제한함.\n",
    "texts = text_splitter.split_documents(documents)\n",
    "\n",
    "len(texts)"
   ]
  },
  {
   "cell_type": "code",
   "execution_count": 7,
   "metadata": {},
   "outputs": [
    {
     "data": {
      "text/plain": [
       "[Document(page_content='70.7%\\n12.6%\\n6.3%10.4%37.8%\\n18.2%\\n9.4%34.6%\\n귀농 귀촌\\n1\\n2\\n3\\n4\\n5\\n6', metadata={'source': 'articles\\\\(농업정책관-청년농육성정책팀) 2022년 귀농귀촌실태조사 결과 보도자료(3.3. 조간)_별첨(2022년 귀농귀촌실태조사 결과  인포그래픽).pdf', 'page': 0}),\n",
       " Document(page_content='∙\\n일반직장\\n취업자영업 임시직 농사일 비농업부문\\n일용직농업임금노동\\n6.4% 83.3%귀농 귀촌 (만원)\\n2,3183,099 3,055 3,1483,186 3,2063,4543,6853,877 3,929 3,8084,045\\n귀농, 귀촌첫해\\n(전체평균)1년차 2년차 3년차\\n 5년차\\n57.4%\\n22.7%\\n7.4% 5.0% 3.1% 2.6%\\n귀농\\n 귀촌\\n∙', metadata={'source': 'articles\\\\(농업정책관-청년농육성정책팀) 2022년 귀농귀촌실태조사 결과 보도자료(3.3. 조간)_별첨(2022년 귀농귀촌실태조사 결과  인포그래픽).pdf', 'page': 1})]"
      ]
     },
     "execution_count": 7,
     "metadata": {},
     "output_type": "execute_result"
    }
   ],
   "source": [
    "texts[2:4]"
   ]
  },
  {
   "cell_type": "markdown",
   "metadata": {},
   "source": [
    "## 2. Create Chroma DB"
   ]
  },
  {
   "cell_type": "code",
   "execution_count": 8,
   "metadata": {},
   "outputs": [],
   "source": [
    "# persist_directory = 'db' # 'db' 디렉토리에 저장함.\n",
    "\n",
    "# embedding = OpenAIEmbeddings()\n",
    "# # openai의 embedding을 사용함\n",
    "\n",
    "# vectordb = Chroma.from_documents(\n",
    "#     documents=texts, \n",
    "#     embedding=embedding,\n",
    "#     persist_directory=persist_directory)\n",
    "\n",
    "# 임베딩 모델 로드\n",
    "from langchain.embeddings import HuggingFaceEmbeddings\n",
    "\n",
    "embeddings = HuggingFaceEmbeddings(\n",
    "    model_name=\"jhgan/ko-sroberta-multitask\", encode_kwargs={'normalize_embeddings': True}\n",
    ")\n",
    "\n",
    "# Chroma DB에 벡터화하여 저장하기\n",
    "from langchain.vectorstores import Chroma\n",
    "vectordb = Chroma.from_documents(texts, embeddings, persist_directory=\"./chroma_db\")\n"
   ]
  },
  {
   "cell_type": "code",
   "execution_count": 9,
   "metadata": {},
   "outputs": [],
   "source": [
    "# 초기화 하는 하는 과정\n",
    "vectordb.persist()\n",
    "vectordb = None\n",
    "persist_directory = 'chroma_db'"
   ]
  },
  {
   "cell_type": "code",
   "execution_count": 10,
   "metadata": {},
   "outputs": [],
   "source": [
    "vectordb = Chroma(\n",
    "    persist_directory=persist_directory, \n",
    "    embedding_function=embeddings)"
   ]
  },
  {
   "cell_type": "markdown",
   "metadata": {},
   "source": [
    "## 3. Make a retriever"
   ]
  },
  {
   "cell_type": "code",
   "execution_count": 11,
   "metadata": {},
   "outputs": [],
   "source": [
    "retriever = vectordb.as_retriever()\n",
    "# docs = retriever.get_relevant_documents(\"What is Generative AI?\")\n",
    "\n",
    "# for doc in docs:\n",
    "#     print(doc.metadata[\"source\"])"
   ]
  },
  {
   "cell_type": "markdown",
   "metadata": {},
   "source": [
    "## 4. Make a chain"
   ]
  },
  {
   "cell_type": "code",
   "execution_count": 17,
   "metadata": {},
   "outputs": [
    {
     "name": "stderr",
     "output_type": "stream",
     "text": [
      "e:\\Installation\\Anaconda3\\envs\\py311_gpu\\Lib\\site-packages\\langchain_core\\_api\\deprecation.py:117: LangChainDeprecationWarning: The class `langchain_community.chat_models.openai.ChatOpenAI` was deprecated in langchain-community 0.0.10 and will be removed in 0.2.0. An updated version of the class exists in the langchain-openai package and should be used instead. To use it run `pip install -U langchain-openai` and import as `from langchain_openai import ChatOpenAI`.\n",
      "  warn_deprecated(\n"
     ]
    }
   ],
   "source": [
    "from langchain.chat_models import ChatOpenAI\n",
    "qa_chain = RetrievalQA.from_chain_type(\n",
    "    llm=ChatOpenAI(model_name = \"gpt-3.5-turbo\", temperature = 0), \n",
    "    chain_type=\"stuff\", \n",
    "    retriever=retriever, \n",
    "    return_source_documents=True)"
   ]
  },
  {
   "cell_type": "code",
   "execution_count": 18,
   "metadata": {},
   "outputs": [],
   "source": [
    "def process_llm_response(llm_response):\n",
    "    print(llm_response['result'])\n",
    "    print('\\n\\nSources:')\n",
    "    for source in llm_response[\"source_documents\"]:\n",
    "        print(source.metadata['source'])"
   ]
  },
  {
   "cell_type": "markdown",
   "metadata": {},
   "source": [
    "## 5. Query"
   ]
  },
  {
   "cell_type": "code",
   "execution_count": 20,
   "metadata": {},
   "outputs": [
    {
     "name": "stdout",
     "output_type": "stream",
     "text": [
      "사과 재배하는 방법은 다음과 같습니다:\n",
      "\n",
      "1. 품종 선택: 사과 품종은 재배 환경과 시장 요구에 맞게 선택해야 합니다. 품종은 수확 시기, 내한성, 병해충 저항성, 과실 품질 등을 고려하여 선택해야 합니다.\n",
      "\n",
      "2. 묘목 구입: 좋은 품질의 사과 묘목을 구입해야 합니다. 묘목은 제뿌리 대목이고, 뿌리가 충실하며, 묘목의 굵기와 길이 등이 기준에 맞아야 합니다.\n",
      "\n",
      "3. 접목: 사과는 주로 접목에 의해 묘목을 생산합니다. 접목은 대목과 접목묘를 결합시키는 작업으로, 접목 시기와 방법을 잘 따라야 합니다.\n",
      "\n",
      "4. 토양 관리: 사과는 토양의 영양분과 수분을 필요로 합니다. 토양의 pH 조절, 영양분 공급, 수분 관리 등을 통해 사과나무가 건강하게 자라도록 해야 합니다.\n",
      "\n",
      "5. 병해충 관리: 사과는 다양한 병해충에 취약합니다. 병해충의 발생을 예방하기 위해 적기에 살충제를 사용하고, 병해충의 피해를 최소화하기 위해 정기적인 관찰과 조치가 필요합니다.\n",
      "\n",
      "사과 품질을 관리하는 방법은 다음과 같습니다:\n",
      "\n",
      "1. 결실 관리: 사과의 결실을 관리하여 과실의 크기와 품질을 향상시킬 수 있습니다. 적절한 간격으로 과실을 희석하고, 과실의 크기와 형태를 조절하는 등의 관리 작업이 필요합니다.\n",
      "\n",
      "2. 병해충 관리: 병해충의 피해로 인해 사과의 품질이 저하될 수 있습니다. 정기적인 병해충 관찰과 적기에 살충제를 사용하여 병해충의 피해를 최소화해야 합니다.\n",
      "\n",
      "3. 수확 시기: 사과의 수확 시기는 과실의 성숙도와 품질에 영향을 미칩니다. 적절한 수확 시기를 선정하여 과실의 당도와 신선도를 유지해야 합니다.\n",
      "\n",
      "4. 보관 관리: 사과는 장기 보관이 가능한 과일이지만, 적절한 보관 조건과 기간을 유지해야 합니다. 온도와 습도를 조절하여 사과의 신선도와 품질을 유지할 수 있습니다.\n",
      "\n",
      "이러한 사과 재배와 품질 관리 방법을 지속적으로 실천하면, 좋은 품질의 사과를 생산할 수 있습니다.\n",
      "\n",
      "\n",
      "Sources:\n",
      "articles\\농업기술길잡이5_사과재배.PDF\n",
      "articles\\농업기술길잡이5_사과재배.PDF\n",
      "articles\\농업기술길잡이5_사과재배.PDF\n",
      "articles\\농업기술길잡이5_사과재배.PDF\n"
     ]
    }
   ],
   "source": [
    "# query = \"벼 농사가 망했을때 보상받을 수 있는 방법에 대해 알려줘\"\n",
    "# query = \"사업자 등록을 위해 구비해야할 서류는 뭐가 있을까?\"\n",
    "query = \"사과 재배하는 방법과, 사과 품질을 관리하는 방법을 알려줘\"\n",
    "llm_response = qa_chain(query)\n",
    "process_llm_response(llm_response)"
   ]
  },
  {
   "cell_type": "code",
   "execution_count": null,
   "metadata": {},
   "outputs": [
    {
     "data": {
      "text/plain": [
       "{'query': '사업자 등록을 위해 구비해야할 서류는 뭐가 있을까?',\n",
       " 'result': '\\n사업자등록신청서, 사업허가증, 사업계획서, 임대차계약서, 동업계약서, 도면, 자금출처명세서, 허가(신고, 등록)증 사본 등이 필요합니다.',\n",
       " 'source_documents': [Document(page_content='후계농 나특별 사장님의  후계농 나특별 사장님의  \\n사업자등록 안내사업자등록 안내\\n농업인이 인터넷으로 직접 농산물을 판매하고, \\n신용카드 결제· 세금계산서 발급 등을 위해서는 \\n사업자등록을 하여야 합니다. 농업인(개인사업자)이 \\n영농조합법인· 농업회사법인(법인사업자)으로  \\n전환하는 경우에도 사업자등록이 이루어져야 합니다.  \\n사업자는 연 1회 수입금액 명세 등을 포함한 사업자 \\n현황을 세무서에 신고해야 하며, 사업자등록은 \\n사업 개시일로부터 20일 이내에 다음의 구비서류를 \\n갖추어 사업장 관할 세무서장에게 신청하면 됩니다.\\n사업을 시작할 때는 \\n반드시 사업자등록구비서류\\n•사업자등록신청서 1부\\n• 사업허가증·등록증 또는 신고확인증 사본 1부  \\n(허가를 받거나 등록 또는 신고를 하여야 하는 사업의 경우)\\n• 사업허가신청서 사본이나 사업계획서  \\n(허가 전에 등록을 하고자 하는 경우)\\n•임대차계약서 사본 1부 (사업장을 임차한 경우)\\n• 2인 이상 공동으로 사업을 하는 경우에는 동업계약서 등  \\n공동사업을 증명할 수 있는 서류  \\n(사업자등록은 공동사업자 중 1인을 대표로 하여 신청)\\n•도면 1부 (상가건물임대차보호법이 적용되는 건물의 일부를 임차한 경우)\\n• 자금출처 명세서 1부 (금자금 도소매업, 과세유흥장소 영위자,  \\n연료판매업, 재생용 재료수집·판매업의 경우 등)\\n축산업, 축산물 가공업 등 관할관청의 허가, 신고,  \\n등록대상 업종인 경우에는 사업자등록 신청시  \\n허가(신고, 등록)증 사본을 제출하여야 합니다.\\n단, 허가(신고, 등록) 전에 사업자등록신청을 하는 경우에는 허가\\n(등록)신청서 사본 또는 사업계획서를 제출하고 추후 허가(신고, \\n등록)증 등의 사본을 제출할 수 있습니다.사업자등록신청 전에 허가, 신고, 등록 대상  \\n업종 여부 확인사업자등록증 발급 기간\\n•2일 이내 (토요일, 공휴일, 근로자의 날은 산정 제외)\\n• 다만, 세무서에서 사업장을 확인해야 하는 경우에는 5일 이내66 7', metadata={'page': 4, 'source': 'articles\\\\2023+농업인을+위한+한손에+잡히는+세금이야기_8판(최최종).pdf'}),\n",
       "  Document(page_content='법인인 경우 법인사업자등록을 하고 개인인 경우  \\n개인사업자등록을 합니다. 개인사업자는 소득세, \\n법인사업자는 법인세를 납부하게 됩니다.\\n과세사업자인 경우 일반과세 또는 간이과세를  \\n선택해야 합니다. 연간 매출액이 8,000만원 이상일  \\n것으로 예상되거나 간이과세를 선택할 수 없는 경우  \\n(제조업, 도매업 등) 일반과세자로 등록합니다. \\n간이과세자는 낮은 부가가치세율이 적용됩니다.주요 세목별  주요 세목별  \\n납세방법과 납기일납세방법과 납기일8 9', metadata={'page': 5, 'source': 'articles\\\\2023+농업인을+위한+한손에+잡히는+세금이야기_8판(최최종).pdf'}),\n",
       "  Document(page_content='및 서류를 제출하여야 합니다 .\\n③ 회사는 제1항 및 제2항에도 불구하고 타인을 위한 계약의 경우에는 계약자\\n에 대한 대위권을 포기합니다 .\\n- 10 -④ 회사는 제1항에 따른 권리가 계약자 또는 피보험자와 생계를 같이 하는 가\\n족에 대한 것인 경우에는 그 권리를 취득하지 못합니다 . 다만, 손해가 그 가\\n족의 고의로 인하여 발생한 경우에는 그 권리를 취득합니다 .', metadata={'page': 4, 'source': 'articles\\\\약관_밭작물(20231030).pdf'}),\n",
       "  Document(page_content='2. 지정대리청구인의 주민등록등본 , 가족관계등록부 (기본증명서 등)\\n  3. 신분증 (주민등록증이나 운전면허증 등 사진이 붙은 정부기관발행 신분증 , 본인이  \\n아닌 경우에는 본인의 인감증명서 또는 본인서명사실확인서 포함)\\n- 42 -제5조(보험금 지급 등의 절차)\\n① 지정대리청구인은 제6조(보험금 등을 청구할 때 구비서류 )에 정한 구비서류 및 \\n제1조(적용대상 )의 피보험자가 보험금을 직접 청구할 수 없는 특별한 사정이 있\\n음을 증명하는 서류를 제출하고 회사의 승낙을 얻어 제1조(적용대상 )의 피보험\\n자의 대리인으로서 보험금 (사망보험금 제외)을 청구하고 수령할 수 있습니다 . \\n다만, 2인의 청구대리인이 지정된 경우에는 그 중 대표대리인이 보험금을 청\\n구하고 수령할 수 있으며 , 대표대리인이 사망 등의 사유로 보험금 청구가 불\\n가능한 경우에는 대표가 아닌 청구대리인도 보험금을 청구하고 수령할 수 \\n있습니다 .\\n② 회사가 보험금을 지정대리청구인에게 지급한 경우에는 그 이후 보험금 청구를  \\n받더라도 회사는 이를 지급하지 않습니다 .\\n제6조(보험금 등을 청구할 때 구비서류 )\\n지정대리청구인은 회사가 정하는 방법에 따라 다음의 서류를 제출하고 보험금을  \\n청구하여야 합니다 .\\n  1. 청구서 (회사양식 )\\n  2. 신분증 (주민등록증이나 운전면허증 등 사진이 붙은 정부기관발행 신분증 )\\n  3. 피보험자 및 지정대리청구인의 가족관계등록부 (가족관계증명서 ) 및 주민등록등본\\n  4. 기타 지정대리청구인이 보험금 등의 수령에 필요하여 제출하는 서류\\n제7조(준용규정 )\\n이 특별약관에 정하지 않은 사항은 보통약관을 따릅니다 .', metadata={'page': 20, 'source': 'articles\\\\약관_밭작물(20231030).pdf'})]}"
      ]
     },
     "execution_count": 15,
     "metadata": {},
     "output_type": "execute_result"
    }
   ],
   "source": [
    "llm_response"
   ]
  },
  {
   "cell_type": "code",
   "execution_count": null,
   "metadata": {},
   "outputs": [],
   "source": []
  }
 ],
 "metadata": {
  "kernelspec": {
   "display_name": "python11",
   "language": "python",
   "name": "python3"
  },
  "language_info": {
   "codemirror_mode": {
    "name": "ipython",
    "version": 3
   },
   "file_extension": ".py",
   "mimetype": "text/x-python",
   "name": "python",
   "nbconvert_exporter": "python",
   "pygments_lexer": "ipython3",
   "version": "3.11.5"
  }
 },
 "nbformat": 4,
 "nbformat_minor": 2
}
